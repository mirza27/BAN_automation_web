{
 "cells": [
  {
   "cell_type": "markdown",
   "metadata": {},
   "source": [
    "cek gambar yang hilang dalam rentang tertentu"
   ]
  },
  {
   "cell_type": "code",
   "execution_count": 1,
   "metadata": {},
   "outputs": [
    {
     "name": "stdout",
     "output_type": "stream",
     "text": [
      "File-file berikut hilang:\n",
      "622.jpg\n",
      "623.jpg\n",
      "624.jpg\n",
      "625.jpg\n",
      "747.jpg\n",
      "832.jpg\n",
      "838.jpg\n",
      "923.jpg\n",
      "1190.jpg\n",
      "1215.jpg\n",
      "1293.jpg\n",
      "1313.jpg\n",
      "1478.jpg\n",
      "1479.jpg\n",
      "1480.jpg\n",
      "1482.jpg\n",
      "1483.jpg\n",
      "total foto hilang : 17\n"
     ]
    }
   ],
   "source": [
    "import os\n",
    "\n",
    "def detect_missing_files(directory, start_range, end_range):\n",
    "    total = 0\n",
    "    missing_files = []\n",
    "    \n",
    "    # Menentukan ekstensi yang diizinkan\n",
    "    allowed_extensions = ['.jpeg', '.jpg']\n",
    "    \n",
    "    for i in range(start_range, end_range + 1):\n",
    "        for ext in allowed_extensions:\n",
    "            filename = f\"{i}{ext}\"\n",
    "            filepath = os.path.join(directory, filename)\n",
    "            if os.path.exists(filepath):\n",
    "                break\n",
    "        else:\n",
    "            missing_files.append(filename)\n",
    "            total += 1\n",
    "\n",
    "    return missing_files, total\n",
    "\n",
    "if __name__ == \"__main__\":\n",
    "    directory_path = \"C:/Users/ramad/OneDrive/Dokumen/BAN/BAN NEW/karo/OC\"\n",
    "    start_range = 459\n",
    "    end_range = 1501\n",
    "\n",
    "    missing_files, total = detect_missing_files(directory_path, start_range, end_range)\n",
    "    if missing_files:\n",
    "        print(\"File-file berikut hilang:\")\n",
    "        for i in missing_files:\n",
    "            print(i)\n",
    "        print(\"total foto hilang :\", total)\n",
    "    else:\n",
    "        print(\"Semua file dalam rentang ada dan lengkap.\")\n"
   ]
  },
  {
   "cell_type": "code",
   "execution_count": null,
   "metadata": {},
   "outputs": [],
   "source": [
    "import os\n",
    "from PIL import Image\n",
    "\n",
    "def is_image_file(filepath):\n",
    "    try:\n",
    "        with Image.open(filepath):\n",
    "            return True\n",
    "    except (IOError, SyntaxError):\n",
    "        return False\n",
    "\n",
    "def detect_missing_files(directory, start_range, end_range, file_formats):\n",
    "    missing_files = []\n",
    "    for i in range(start_range, end_range + 1):\n",
    "        for file_format in file_formats:\n",
    "            filename = f\"{i}.{file_format}\"\n",
    "            filepath = os.path.join(directory, filename)\n",
    "            if not os.path.exists(filepath) or not is_image_file(filepath):\n",
    "                missing_files.append(filename)\n",
    "                break\n",
    "    return missing_files\n",
    "\n",
    "if __name__ == \"__main__\":\n",
    "    directory_path = \"C:/Users/ramad/OneDrive/Dokumen/BAN/BAN NEW/Karo/OC KTP\"\n",
    "    start_range = 10\n",
    "    end_range = 99\n",
    "    file_formats = [\"jpg\", \"jpeg\"]\n",
    "\n",
    "    missing_files = detect_missing_files(directory_path, start_range, end_range, file_formats)\n",
    "    if missing_files:\n",
    "        print(\"File-file berikut hilang:\")\n",
    "        print(missing_files)\n",
    "    else:\n",
    "        print(\"Semua file dalam rentang ada dan lengkap.\")\n"
   ]
  },
  {
   "cell_type": "code",
   "execution_count": 8,
   "metadata": {},
   "outputs": [
    {
     "name": "stdout",
     "output_type": "stream",
     "text": [
      "Tidak ada duplikat file dalam direktori.\n"
     ]
    }
   ],
   "source": [
    "import os\n",
    "\n",
    "def find_duplicate_files(directory):\n",
    "    seen_files = {}\n",
    "    duplicate_files = []\n",
    "\n",
    "    for filename in os.listdir(directory):\n",
    "        filepath = os.path.join(directory, filename)\n",
    "\n",
    "        if os.path.isfile(filepath):\n",
    "            # Memperoleh bagian nama file tanpa ekstensi\n",
    "            filename_without_extension = os.path.splitext(filename)[0]\n",
    "\n",
    "            # Jika bagian nama file sudah pernah ditemukan sebelumnya, itu adalah duplikat\n",
    "            if filename_without_extension in seen_files:\n",
    "                duplicate_files.append(filepath)\n",
    "            else:\n",
    "                seen_files[filename_without_extension] = filepath\n",
    "\n",
    "    return duplicate_files\n",
    "\n",
    "if __name__ == \"__main__\":\n",
    "    directory_path = \"C:/Users/ramad/OneDrive/Dokumen/BAN/BAN NEW/Karo/OC no gps\"\n",
    "\n",
    "    duplicate_files = find_duplicate_files(directory_path)\n",
    "    if duplicate_files:\n",
    "        print(\"File-file berikut adalah duplikat:\")\n",
    "        for duplicate_file in duplicate_files:\n",
    "            print(duplicate_file)\n",
    "    else:\n",
    "        print(\"Tidak ada duplikat file dalam direktori.\")\n"
   ]
  }
 ],
 "metadata": {
  "kernelspec": {
   "display_name": "Python 3",
   "language": "python",
   "name": "python3"
  },
  "language_info": {
   "codemirror_mode": {
    "name": "ipython",
    "version": 3
   },
   "file_extension": ".py",
   "mimetype": "text/x-python",
   "name": "python",
   "nbconvert_exporter": "python",
   "pygments_lexer": "ipython3",
   "version": "3.10.11"
  },
  "orig_nbformat": 4
 },
 "nbformat": 4,
 "nbformat_minor": 2
}
