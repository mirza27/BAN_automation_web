{
 "cells": [
  {
   "cell_type": "markdown",
   "metadata": {},
   "source": [
    "cek gambar yang hilang dalam rentang tertentu"
   ]
  },
  {
   "cell_type": "code",
   "execution_count": 2,
   "metadata": {},
   "outputs": [
    {
     "name": "stdout",
     "output_type": "stream",
     "text": [
      "File-file berikut hilang:\n",
      "279.jpg\n",
      "total foto hilang : 1\n"
     ]
    }
   ],
   "source": [
    "import os\n",
    "\n",
    "def detect_missing_files(directory, start_range, end_range):\n",
    "    total = 0\n",
    "    missing_files = []\n",
    "    \n",
    "    # Menentukan ekstensi yang diizinkan\n",
    "    allowed_extensions = ['.jpg']\n",
    "    \n",
    "    for i in range(start_range, end_range + 1):\n",
    "        for ext in allowed_extensions:\n",
    "            filename = f\"{i}{ext}\"\n",
    "            filepath = os.path.join(directory, filename)\n",
    "            if os.path.exists(filepath):\n",
    "                break\n",
    "        else:\n",
    "            missing_files.append(filename)\n",
    "            total += 1\n",
    "\n",
    "    return missing_files, total\n",
    "\n",
    "if __name__ == \"__main__\":\n",
    "    directory_path = \"C:/Users/ramad/OneDrive/Dokumen/BAN/BAN NEW/ponorogo/sj\"\n",
    "    start_range = 1\n",
    "    end_range = 279\n",
    "\n",
    "    missing_files, total = detect_missing_files(directory_path, start_range, end_range)\n",
    "    if missing_files:\n",
    "        print(\"File-file berikut hilang:\")\n",
    "        for i in missing_files:\n",
    "            print(i)\n",
    "        print(\"total foto hilang :\", total)\n",
    "    else:\n",
    "        print(\"Semua file dalam rentang ada dan lengkap.\")\n"
   ]
  },
  {
   "cell_type": "code",
   "execution_count": 3,
   "metadata": {},
   "outputs": [
    {
     "name": "stdout",
     "output_type": "stream",
     "text": [
      "File-file berikut hilang:\n",
      "['459.jpg', '460.jpg', '461.jpg', '462.jpg', '463.jpg', '464.jpg', '465.jpg', '466.jpg', '467.jpg', '468.jpg', '469.jpg', '470.jpg', '471.jpg', '472.jpg', '473.jpg', '474.jpg', '475.jpg', '476.jpg', '477.jpg', '478.jpg', '479.jpg', '480.jpg', '481.jpg', '482.jpg', '483.jpg', '484.jpg', '485.jpg', '486.jpg', '487.jpg', '488.jpg', '489.jpg', '490.jpg', '491.jpg', '492.jpg', '493.jpg', '494.jpg', '495.jpg', '496.jpg', '497.jpg', '498.jpg', '499.jpg', '500.jpg', '501.jpg', '502.jpg', '503.jpg', '504.jpg', '505.jpg', '506.jpg', '507.jpg', '508.jpg', '509.jpg', '510.jpg', '511.jpg', '512.jpg', '513.jpg', '514.jpg', '515.jpg', '516.jpg', '517.jpg', '518.jpg', '519.jpg', '520.jpg', '521.jpg', '522.jpg', '523.jpg', '524.jpg', '525.jpg', '526.jpg', '527.jpg', '528.jpg', '529.jpg', '530.jpg', '531.jpg', '532.jpg', '533.jpg', '534.jpg', '535.jpg', '536.jpg', '537.jpg', '538.jpg', '539.jpg', '540.jpg', '541.jpg', '542.jpg', '543.jpg', '544.jpg', '545.jpg', '546.jpg', '547.jpg', '548.jpg', '549.jpg', '550.jpg', '551.jpg', '552.jpg', '553.jpg', '554.jpg', '555.jpg', '556.jpg', '557.jpg', '558.jpg', '559.jpg', '560.jpg', '561.jpg', '562.jpg', '563.jpg', '564.jpg', '565.jpg', '566.jpg', '567.jpg', '568.jpg', '569.jpg', '570.jpg', '571.jpg', '572.jpg', '573.jpg', '574.jpg', '575.jpg', '576.jpg', '577.jpg', '578.jpg', '579.jpg', '580.jpg', '581.jpg', '582.jpg', '583.jpg', '584.jpg', '585.jpg', '586.jpg', '587.jpg', '588.jpg', '589.jpg', '590.jpg', '591.jpg', '592.jpg', '593.jpg', '594.jpg', '595.jpg', '596.jpg', '597.jpg', '598.jpg', '599.jpg', '600.jpg', '601.jpg', '602.jpg', '603.jpg', '604.jpg', '605.jpg', '606.jpg', '607.jpg', '608.jpg', '609.jpg', '610.jpg', '611.jpg', '612.jpg', '613.jpg', '614.jpg', '615.jpg', '616.jpg', '617.jpg', '618.jpg', '619.jpg', '620.jpg', '621.jpg', '622.jpg', '623.jpg', '624.jpg', '625.jpg', '626.jpg', '627.jpg', '628.jpg', '629.jpg', '630.jpg', '631.jpg', '632.jpg', '633.jpg', '634.jpg', '635.jpg', '636.jpg', '637.jpg', '638.jpg', '639.jpg', '640.jpg', '641.jpg', '642.jpg', '643.jpg', '644.jpg', '645.jpg', '646.jpg', '647.jpg', '648.jpg', '649.jpg', '650.jpg', '651.jpg', '652.jpg', '653.jpg', '654.jpg', '655.jpg', '656.jpg', '657.jpg', '658.jpg', '659.jpg', '660.jpg', '661.jpg', '662.jpg', '663.jpg', '664.jpg', '665.jpg', '666.jpg', '667.jpg', '668.jpg', '669.jpg', '670.jpg', '671.jpg', '672.jpg', '673.jpg', '674.jpg', '675.jpg', '676.jpg', '677.jpg', '678.jpg', '679.jpg', '680.jpg', '681.jpg', '682.jpg', '683.jpg', '684.jpg', '685.jpg', '686.jpg', '687.jpg', '688.jpg', '689.jpg', '690.jpg', '691.jpg', '692.jpg', '693.jpg', '694.jpg', '695.jpg', '696.jpg', '697.jpg', '698.jpg', '699.jpg', '700.jpg', '701.jpg', '702.jpg', '703.jpg', '704.jpg', '705.jpg', '706.jpg', '707.jpg', '708.jpg', '709.jpg', '710.jpg', '711.jpg', '712.jpg', '713.jpg', '714.jpg', '715.jpg', '716.jpg', '717.jpg', '718.jpg', '719.jpg', '720.jpg', '721.jpg', '722.jpg', '723.jpg', '724.jpg', '725.jpg', '726.jpg', '727.jpg', '728.jpg', '729.jpg', '730.jpg', '731.jpg', '732.jpg', '733.jpg', '734.jpg', '735.jpg', '736.jpg', '737.jpg', '738.jpg', '739.jpg', '740.jpg', '741.jpg', '742.jpg', '743.jpg', '744.jpg', '745.jpg', '746.jpg', '747.jpg', '748.jpg', '749.jpg', '750.jpg', '751.jpg', '752.jpg', '753.jpg', '754.jpg', '755.jpg', '756.jpg', '757.jpg', '758.jpg', '759.jpg', '760.jpg', '761.jpg', '762.jpg', '763.jpg', '764.jpg', '765.jpg', '766.jpg', '767.jpg', '768.jpg', '769.jpg', '770.jpg', '771.jpg', '772.jpg', '773.jpg', '774.jpg', '775.jpg', '776.jpg', '777.jpg', '778.jpg', '779.jpg', '780.jpg', '781.jpg', '782.jpg', '783.jpg', '784.jpg', '785.jpg', '786.jpg', '787.jpg', '788.jpg', '789.jpg', '790.jpg', '791.jpg', '792.jpg', '793.jpg', '794.jpg', '795.jpg', '796.jpg', '797.jpg', '798.jpeg', '799.jpg', '800.jpg', '801.jpeg', '802.jpg', '803.jpg', '804.jpg', '805.jpg', '806.jpg', '807.jpg', '808.jpg', '809.jpg', '810.jpg', '811.jpg', '812.jpg', '813.jpg', '814.jpg', '815.jpg', '816.jpg', '817.jpg', '818.jpg', '819.jpg', '820.jpg', '821.jpg', '822.jpg', '823.jpg', '824.jpg', '825.jpg', '826.jpg', '827.jpg', '828.jpg', '829.jpg', '830.jpg', '831.jpg', '832.jpg', '833.jpg', '834.jpg', '835.jpg', '836.jpg', '837.jpg', '838.jpg', '839.jpg', '840.jpg', '841.jpg', '842.jpg', '843.jpg', '844.jpg', '845.jpg', '846.jpg', '847.jpg', '848.jpg', '849.jpg', '850.jpg', '851.jpg', '852.jpg', '853.jpg', '854.jpg', '855.jpg', '856.jpg', '857.jpg', '858.jpg', '859.jpg', '860.jpg', '861.jpg', '862.jpg', '863.jpg', '864.jpg', '865.jpg', '866.jpg', '867.jpg', '868.jpg', '869.jpg', '870.jpg', '871.jpg', '872.jpg', '873.jpg', '874.jpg', '875.jpg', '876.jpg', '877.jpg', '878.jpg', '879.jpg', '880.jpg', '881.jpg', '882.jpg', '883.jpg', '884.jpeg', '885.jpg', '886.jpg', '887.jpg', '888.jpg', '889.jpg', '890.jpg', '891.jpg', '892.jpg', '893.jpg', '894.jpg', '895.jpg', '896.jpg', '897.jpg', '898.jpg', '899.jpg', '900.jpg', '901.jpg', '902.jpg', '903.jpg', '904.jpg', '905.jpg', '906.jpg', '907.jpg', '908.jpg', '909.jpg', '910.jpg', '911.jpg', '912.jpg', '913.jpg', '914.jpg', '915.jpg', '916.jpg', '917.jpg', '918.jpg', '919.jpg', '920.jpg', '921.jpg', '922.jpg', '923.jpg', '924.jpg', '925.jpg', '926.jpg', '927.jpg', '928.jpg', '929.jpg', '930.jpg', '931.jpg', '932.jpg', '933.jpg', '934.jpg', '935.jpg', '936.jpg', '937.jpg', '938.jpg', '939.jpg', '940.jpg', '941.jpg', '942.jpg', '943.jpg', '944.jpg', '945.jpg', '946.jpg', '947.jpg', '948.jpg', '949.jpg', '950.jpg', '951.jpg', '952.jpg', '953.jpg', '954.jpg', '955.jpg', '956.jpg', '957.jpg', '958.jpg', '959.jpg', '960.jpg', '961.jpg', '962.jpg', '963.jpg', '964.jpg', '965.jpg', '966.jpg', '967.jpg', '968.jpg', '969.jpg', '970.jpg', '971.jpg', '972.jpg', '973.jpg', '974.jpg', '975.jpg', '976.jpg', '977.jpg', '978.jpg', '979.jpg', '980.jpg', '981.jpg', '982.jpg', '983.jpg', '984.jpg', '985.jpg', '986.jpg', '987.jpg', '988.jpg', '989.jpg', '990.jpg', '991.jpg', '992.jpg', '993.jpg', '994.jpg', '995.jpg', '996.jpg', '997.jpg', '998.jpg', '999.jpg', '1000.jpg', '1001.jpg', '1002.jpg', '1003.jpg', '1004.jpg', '1005.jpg', '1006.jpg', '1007.jpg', '1008.jpg', '1009.jpg', '1010.jpg', '1011.jpg', '1012.jpg', '1013.jpg', '1014.jpg', '1015.jpg', '1016.jpg', '1017.jpg', '1018.jpg', '1019.jpg', '1020.jpg', '1021.jpg', '1022.jpg', '1023.jpg', '1024.jpg', '1025.jpg', '1026.jpg', '1027.jpg', '1028.jpg', '1029.jpg', '1030.jpg', '1031.jpg', '1032.jpg', '1033.jpg', '1034.jpg', '1035.jpg', '1036.jpg', '1037.jpg', '1038.jpg', '1039.jpg', '1040.jpg', '1041.jpg', '1042.jpg', '1043.jpg', '1044.jpg', '1045.jpg', '1046.jpg', '1047.jpg', '1048.jpg', '1049.jpg', '1050.jpg', '1051.jpg', '1052.jpg', '1053.jpg', '1054.jpg', '1055.jpg', '1056.jpg', '1057.jpg', '1058.jpg', '1059.jpg', '1060.jpg', '1061.jpg', '1062.jpg', '1063.jpg', '1064.jpg', '1065.jpg', '1066.jpg', '1067.jpg', '1068.jpg', '1069.jpg', '1070.jpg', '1071.jpg', '1072.jpg', '1073.jpg', '1074.jpg', '1075.jpg', '1076.jpg', '1077.jpg', '1078.jpg', '1079.jpg', '1080.jpg', '1081.jpg', '1082.jpg', '1083.jpg', '1084.jpg', '1085.jpg', '1086.jpg', '1087.jpg', '1088.jpg', '1089.jpg', '1090.jpg', '1091.jpg', '1092.jpg', '1093.jpg', '1094.jpg', '1095.jpg', '1096.jpg', '1097.jpg', '1098.jpg', '1099.jpg', '1100.jpg', '1101.jpg', '1102.jpg', '1103.jpg', '1104.jpg', '1105.jpg', '1106.jpg', '1107.jpg', '1108.jpg', '1109.jpg', '1110.jpg', '1111.jpg', '1112.jpg', '1113.jpg', '1114.jpg', '1115.jpg', '1116.jpg', '1117.jpg', '1118.jpg', '1119.jpg', '1120.jpg', '1121.jpg', '1122.jpg', '1123.jpg', '1124.jpg', '1125.jpg', '1126.jpg', '1127.jpg', '1128.jpg', '1129.jpg', '1130.jpg', '1131.jpg', '1132.jpg', '1133.jpg', '1134.jpg', '1135.jpg', '1136.jpg', '1137.jpg', '1138.jpg', '1139.jpg', '1140.jpg', '1141.jpg', '1142.jpg', '1143.jpg', '1144.jpg', '1145.jpg', '1146.jpg', '1147.jpg', '1148.jpg', '1149.jpg', '1150.jpg', '1151.jpg', '1152.jpg', '1153.jpg', '1154.jpg', '1155.jpg', '1156.jpg', '1157.jpg', '1158.jpg', '1159.jpg', '1160.jpg', '1161.jpg', '1162.jpg', '1163.jpg', '1164.jpg', '1165.jpg', '1166.jpg', '1167.jpg', '1168.jpg', '1169.jpg', '1170.jpg', '1171.jpg', '1172.jpg', '1173.jpg', '1174.jpg', '1175.jpg', '1176.jpg', '1177.jpg', '1178.jpg', '1179.jpg', '1180.jpg', '1181.jpg', '1182.jpg', '1183.jpg', '1184.jpg', '1185.jpg', '1186.jpg', '1187.jpg', '1188.jpg', '1189.jpg', '1190.jpg', '1191.jpg', '1192.jpg', '1193.jpg', '1194.jpg', '1195.jpg', '1196.jpg', '1197.jpg', '1198.jpg', '1199.jpg', '1200.jpg', '1201.jpg', '1202.jpg', '1203.jpg', '1204.jpg', '1205.jpg', '1206.jpg', '1207.jpg', '1208.jpg', '1209.jpg', '1210.jpg', '1211.jpg', '1212.jpg', '1213.jpg', '1214.jpg', '1215.jpg', '1216.jpg', '1217.jpg', '1218.jpg', '1219.jpg', '1220.jpg', '1221.jpg', '1222.jpg', '1223.jpg', '1224.jpg', '1225.jpg', '1226.jpg', '1227.jpg', '1228.jpg', '1229.jpg', '1230.jpg', '1231.jpg', '1232.jpg', '1233.jpg', '1234.jpg', '1235.jpg', '1236.jpg', '1237.jpg', '1238.jpg', '1239.jpg', '1240.jpg', '1241.jpg', '1242.jpg', '1243.jpg', '1244.jpg', '1245.jpg', '1246.jpg', '1247.jpg', '1248.jpg', '1249.jpg', '1250.jpg', '1251.jpg', '1252.jpg', '1253.jpg', '1254.jpg', '1255.jpg', '1256.jpg', '1257.jpg', '1258.jpg', '1259.jpg', '1260.jpg', '1261.jpg', '1262.jpg', '1263.jpg', '1264.jpg', '1265.jpg', '1266.jpg', '1267.jpg', '1268.jpg', '1269.jpg', '1270.jpg', '1271.jpg', '1272.jpg', '1273.jpg', '1274.jpg', '1275.jpg', '1276.jpg', '1277.jpg', '1278.jpg', '1279.jpg', '1280.jpg', '1281.jpg', '1282.jpg', '1283.jpg', '1284.jpg', '1285.jpg', '1286.jpg', '1287.jpg', '1288.jpg', '1289.jpg', '1290.jpg', '1291.jpg', '1292.jpg', '1293.jpg', '1294.jpg', '1295.jpg', '1296.jpg', '1297.jpg', '1298.jpg', '1299.jpg', '1300.jpg', '1301.jpg', '1302.jpg', '1303.jpg', '1304.jpg', '1305.jpg', '1306.jpg', '1307.jpg', '1308.jpg', '1309.jpg', '1310.jpg', '1311.jpg', '1312.jpg', '1313.jpg', '1314.jpg', '1315.jpg', '1316.jpg', '1317.jpg', '1318.jpeg', '1319.jpg', '1320.jpeg', '1321.jpg', '1322.jpg', '1323.jpg', '1324.jpg', '1325.jpg', '1326.jpg', '1327.jpeg', '1328.jpeg', '1329.jpeg', '1330.jpg', '1331.jpeg', '1332.jpg', '1333.jpg', '1334.jpeg', '1335.jpg', '1336.jpeg', '1337.jpeg', '1338.jpg', '1339.jpg', '1340.jpg', '1341.jpg', '1342.jpeg', '1343.jpg', '1344.jpg', '1345.jpg', '1346.jpg', '1347.jpg', '1348.jpg', '1349.jpg', '1350.jpg', '1351.jpg', '1352.jpg', '1353.jpg', '1354.jpg', '1355.jpg', '1356.jpg', '1357.jpg', '1358.jpg', '1359.jpg', '1360.jpg', '1361.jpg', '1362.jpg', '1363.jpg', '1364.jpg', '1365.jpg', '1366.jpg', '1367.jpg', '1368.jpg', '1369.jpg', '1370.jpg', '1371.jpg', '1372.jpg', '1373.jpg', '1374.jpg', '1375.jpg', '1376.jpg', '1377.jpeg', '1378.jpeg', '1379.jpeg', '1380.jpg', '1381.jpeg', '1382.jpeg', '1383.jpeg', '1384.jpg', '1385.jpeg', '1386.jpeg', '1387.jpg', '1388.jpeg', '1389.jpeg', '1390.jpg', '1391.jpg', '1392.jpg', '1393.jpg', '1394.jpg', '1395.jpg', '1396.jpg', '1397.jpg', '1398.jpg', '1399.jpg', '1400.jpg', '1401.jpg', '1402.jpg', '1403.jpg', '1404.jpg', '1405.jpg', '1406.jpg', '1407.jpg', '1408.jpg', '1409.jpg', '1410.jpg', '1411.jpg', '1412.jpg', '1413.jpg', '1414.jpg', '1415.jpg', '1416.jpg', '1417.jpg', '1418.jpg', '1419.jpg', '1421.jpg', '1422.jpg', '1423.jpg', '1424.jpg', '1425.jpg', '1426.jpg', '1427.jpg', '1428.jpg', '1429.jpg', '1430.jpg', '1431.jpg', '1432.jpg', '1433.jpg', '1434.jpg', '1435.jpg', '1436.jpg', '1437.jpg', '1438.jpg', '1439.jpg', '1440.jpg', '1441.jpg', '1442.jpg', '1443.jpg', '1444.jpg', '1445.jpg', '1446.jpg', '1447.jpg', '1448.jpg', '1449.jpg', '1450.jpg', '1451.jpg', '1452.jpg', '1453.jpg', '1454.jpg', '1455.jpg', '1456.jpg', '1457.jpg', '1458.jpg', '1459.jpg', '1460.jpg', '1461.jpg', '1462.jpg', '1463.jpg', '1464.jpg', '1465.jpg', '1466.jpg', '1467.jpg', '1468.jpg', '1469.jpg', '1470.jpg', '1471.jpg', '1472.jpg', '1473.jpg', '1474.jpg', '1475.jpg', '1476.jpg', '1477.jpg', '1478.jpg', '1479.jpg', '1480.jpg', '1481.jpg', '1482.jpg', '1483.jpg', '1484.jpg', '1485.jpg', '1486.jpg', '1487.jpg', '1488.jpg', '1489.jpg', '1490.jpg', '1491.jpg', '1492.jpg', '1493.jpg', '1494.jpg', '1495.jpg', '1496.jpg', '1497.jpg', '1498.jpg', '1499.jpg', '1500.jpg', '1501.jpg']\n"
     ]
    }
   ],
   "source": [
    "import os\n",
    "from PIL import Image\n",
    "\n",
    "def is_image_file(filepath):\n",
    "    try:\n",
    "        with Image.open(filepath):\n",
    "            return True\n",
    "    except (IOError, SyntaxError):\n",
    "        return False\n",
    "\n",
    "def detect_missing_files(directory, start_range, end_range, file_formats):\n",
    "    missing_files = []\n",
    "    for i in range(start_range, end_range + 1):\n",
    "        for file_format in file_formats:\n",
    "            filename = f\"{i}.{file_format}\"\n",
    "            filepath = os.path.join(directory, filename)\n",
    "            if not os.path.exists(filepath) or not is_image_file(filepath):\n",
    "                missing_files.append(filename)\n",
    "                break\n",
    "    return missing_files\n",
    "\n",
    "if __name__ == \"__main__\":\n",
    "    directory_path = \"C:/Users/ramad/OneDrive/Dokumen/BAN/BAN NEW/karo/KTP\"\n",
    "    start_range = 459\n",
    "    end_range = 1501\n",
    "    file_formats = [\"jpg\", \"jpeg\"]\n",
    "\n",
    "    missing_files = detect_missing_files(directory_path, start_range, end_range, file_formats)\n",
    "    if missing_files:\n",
    "        print(\"File-file berikut hilang:\")\n",
    "        print(missing_files)\n",
    "    else:\n",
    "        print(\"Semua file dalam rentang ada dan lengkap.\")\n"
   ]
  },
  {
   "cell_type": "markdown",
   "metadata": {},
   "source": [
    "mencari apakah terdapat dupliasi gambar pada dir"
   ]
  },
  {
   "cell_type": "code",
   "execution_count": 8,
   "metadata": {},
   "outputs": [
    {
     "name": "stdout",
     "output_type": "stream",
     "text": [
      "Tidak ada duplikat file dalam direktori.\n"
     ]
    }
   ],
   "source": [
    "import os\n",
    "\n",
    "def find_duplicate_files(directory):\n",
    "    seen_files = {}\n",
    "    duplicate_files = []\n",
    "\n",
    "    for filename in os.listdir(directory):\n",
    "        filepath = os.path.join(directory, filename)\n",
    "\n",
    "        if os.path.isfile(filepath):\n",
    "            # Memperoleh bagian nama file tanpa ekstensi\n",
    "            filename_without_extension = os.path.splitext(filename)[0]\n",
    "\n",
    "            # Jika bagian nama file sudah pernah ditemukan sebelumnya, itu adalah duplikat\n",
    "            if filename_without_extension in seen_files:\n",
    "                duplicate_files.append(filepath)\n",
    "            else:\n",
    "                seen_files[filename_without_extension] = filepath\n",
    "\n",
    "    return duplicate_files\n",
    "\n",
    "if __name__ == \"__main__\":\n",
    "    directory_path = \"C:/Users/ramad/OneDrive/Dokumen/BAN/BAN NEW/Karo/OC no gps\"\n",
    "\n",
    "    duplicate_files = find_duplicate_files(directory_path)\n",
    "    if duplicate_files:\n",
    "        print(\"File-file berikut adalah duplikat:\")\n",
    "        for duplicate_file in duplicate_files:\n",
    "            print(duplicate_file)\n",
    "    else:\n",
    "        print(\"Tidak ada duplikat file dalam direktori.\")\n"
   ]
  }
 ],
 "metadata": {
  "kernelspec": {
   "display_name": "Python 3",
   "language": "python",
   "name": "python3"
  },
  "language_info": {
   "codemirror_mode": {
    "name": "ipython",
    "version": 3
   },
   "file_extension": ".py",
   "mimetype": "text/x-python",
   "name": "python",
   "nbconvert_exporter": "python",
   "pygments_lexer": "ipython3",
   "version": "3.10.11"
  },
  "orig_nbformat": 4
 },
 "nbformat": 4,
 "nbformat_minor": 2
}
