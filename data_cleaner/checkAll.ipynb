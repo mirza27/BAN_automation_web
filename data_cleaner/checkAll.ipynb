{
 "cells": [
  {
   "cell_type": "markdown",
   "metadata": {},
   "source": [
    "cek gambar yang hilang dalam rentang tertentu"
   ]
  },
  {
   "cell_type": "code",
   "execution_count": 2,
   "metadata": {},
   "outputs": [
    {
     "name": "stdout",
     "output_type": "stream",
     "text": [
      "File-file berikut hilang:\n",
      "['19.jpg', '28.jpg', '64.jpg']\n"
     ]
    }
   ],
   "source": [
    "import os\n",
    "\n",
    "def detect_missing_files(directory, start_range, end_range):\n",
    "    missing_files = []\n",
    "    for i in range(start_range, end_range + 1):\n",
    "        filename = f\"{i}.jpg\"\n",
    "        filepath = os.path.join(directory, filename)\n",
    "        if not os.path.exists(filepath):\n",
    "            missing_files.append(filename)\n",
    "    return missing_files\n",
    "\n",
    "if __name__ == \"__main__\":\n",
    "    directory_path = \"C:/Users/ramad/OneDrive/Dokumen/BAN/OC Sumba Barat Daya/2\"  # Ganti dengan path direktori yang sesuai\n",
    "    start_range = 10\n",
    "    end_range = 99\n",
    "\n",
    "    missing_files = detect_missing_files(directory_path, start_range, end_range)\n",
    "    if missing_files:\n",
    "        print(\"File-file berikut hilang:\")\n",
    "        print(missing_files)\n",
    "    else:\n",
    "        print(\"Semua file dalam rentang ada dan lengkap.\")\n"
   ]
  },
  {
   "cell_type": "code",
   "execution_count": 6,
   "metadata": {},
   "outputs": [
    {
     "name": "stdout",
     "output_type": "stream",
     "text": [
      "File-file berikut adalah duplikat:\n",
      "C:/Users/ramad/OneDrive/Dokumen/BAN/OC Sumba Barat Daya/2\\10.jpg\n"
     ]
    }
   ],
   "source": [
    "import os\n",
    "\n",
    "def find_duplicate_files(directory):\n",
    "    seen_files = {}\n",
    "    duplicate_files = []\n",
    "\n",
    "    for filename in os.listdir(directory):\n",
    "        filepath = os.path.join(directory, filename)\n",
    "\n",
    "        if os.path.isfile(filepath):\n",
    "            # Memperoleh bagian nama file tanpa ekstensi\n",
    "            filename_without_extension = os.path.splitext(filename)[0]\n",
    "\n",
    "            # Jika bagian nama file sudah pernah ditemukan sebelumnya, itu adalah duplikat\n",
    "            if filename_without_extension in seen_files:\n",
    "                duplicate_files.append(filepath)\n",
    "            else:\n",
    "                seen_files[filename_without_extension] = filepath\n",
    "\n",
    "    return duplicate_files\n",
    "\n",
    "if __name__ == \"__main__\":\n",
    "    directory_path = \"C:/Users/ramad/OneDrive/Dokumen/BAN/OC Sumba Barat Daya/2\"  # Ganti dengan path direktori yang sesuai\n",
    "\n",
    "    duplicate_files = find_duplicate_files(directory_path)\n",
    "    if duplicate_files:\n",
    "        print(\"File-file berikut adalah duplikat:\")\n",
    "        for duplicate_file in duplicate_files:\n",
    "            print(duplicate_file)\n",
    "    else:\n",
    "        print(\"Tidak ada duplikat file dalam direktori.\")\n"
   ]
  }
 ],
 "metadata": {
  "kernelspec": {
   "display_name": "Python 3",
   "language": "python",
   "name": "python3"
  },
  "language_info": {
   "codemirror_mode": {
    "name": "ipython",
    "version": 3
   },
   "file_extension": ".py",
   "mimetype": "text/x-python",
   "name": "python",
   "nbconvert_exporter": "python",
   "pygments_lexer": "ipython3",
   "version": "3.10.11"
  },
  "orig_nbformat": 4
 },
 "nbformat": 4,
 "nbformat_minor": 2
}
