{
 "cells": [
  {
   "cell_type": "markdown",
   "metadata": {},
   "source": [
    "Giving Geotag (Coordinates)"
   ]
  },
  {
   "cell_type": "code",
   "execution_count": 1,
   "metadata": {},
   "outputs": [],
   "source": [
    "import os\n",
    "import piexif\n",
    "from PIL import Image\n",
    "import random\n",
    "\n",
    "def coordinate_to_tuple(coordinate):\n",
    "        degrees = int(abs(coordinate))\n",
    "        minutes_float = (abs(coordinate) - degrees) * 60\n",
    "        minutes = int(minutes_float)\n",
    "        seconds_float = (minutes_float - minutes) * 60\n",
    "        seconds = int(abs(seconds_float) * 100)  # Ensure seconds remain positive\n",
    "        return ((degrees, 1), (minutes, 1), (seconds, 100))\n",
    "\n",
    "def generate_random_coordinate(latitude, longitude, radius):\n",
    "    # Generate random coordinates within the specified radius\n",
    "    latitude_offset = random.uniform(-radius, radius)\n",
    "    longitude_offset = random.uniform(-radius, radius)\n",
    "    \n",
    "    new_latitude = latitude + latitude_offset\n",
    "    new_longitude = longitude + longitude_offset\n",
    "    \n",
    "    return new_latitude, new_longitude\n",
    "\n",
    "def update_exif_gps_single(image_name_location, latitude, longitude, radius):\n",
    "    image = Image.open(image_name_location)\n",
    "\n",
    "    # Generate random coordinates within the specified radius\n",
    "    new_latitude, new_longitude = generate_random_coordinate(latitude, longitude, radius)\n",
    "    \n",
    "    # Prepare GPS IFD data\n",
    "    latitude_coo = coordinate_to_tuple(new_latitude)\n",
    "    longitude_coo = coordinate_to_tuple(new_longitude)\n",
    "    gps_ifd = {\n",
    "        piexif.GPSIFD.GPSVersionID: (2, 0, 0, 0),\n",
    "        piexif.GPSIFD.GPSAltitudeRef: 1,\n",
    "        piexif.GPSIFD.GPSLatitude: latitude_coo,\n",
    "        piexif.GPSIFD.GPSLatitudeRef: b'N' if new_latitude >= 0 else b'S',  # Ensure bytes type\n",
    "        piexif.GPSIFD.GPSLongitude: longitude_coo,\n",
    "        piexif.GPSIFD.GPSLongitudeRef: b'E' if new_longitude >= 0 else b'W',  # Ensure bytes type\n",
    "    }\n",
    "\n",
    "    # Load existing Exif data (if any)\n",
    "    exif_dict = piexif.load(image_name_location)\n",
    "\n",
    "    # Update GPS information\n",
    "    exif_dict['GPS'] = gps_ifd\n",
    "\n",
    "    # Convert Exif to bytes\n",
    "    exif_bytes = piexif.dump(exif_dict)\n",
    "\n",
    "    # Save the modified image with updated Exif data\n",
    "    image.save(image_name_location, exif=exif_bytes)\n",
    "    \n",
    "\n",
    "def update_exif_gps_directory(directory, latitude, longitude, radius):\n",
    "    # Iterate through image files in the directory\n",
    "    for filename in os.listdir(directory):\n",
    "        if filename.endswith('.jpg') or filename.endswith('.jpeg') or filename.endswith('.png'):\n",
    "            image_name_location = os.path.join(directory, filename)\n",
    "            update_exif_gps_single(image_name_location, latitude, longitude, radius)\n",
    "            print(filename, \"berhasil disimpan\")\n"
   ]
  },
  {
   "cell_type": "code",
   "execution_count": 2,
   "metadata": {},
   "outputs": [],
   "source": [
    "radius = 0.0001  # You can adjust the radius as needed to control the range of random coordinates\n",
    "\n",
    "image_directory = \"C:/Users/ramad/OneDrive/Dokumen/BAN/BAN NEW/ponorogo/OC no gps/Wonodadi\"\n",
    "# latitude =-9.51754027\n",
    "# longitude =119.0248174\n",
    "\n",
    "# update_exif_gps_directory(image_directory,-8.15554625,111.46045216, radius)"
   ]
  },
  {
   "cell_type": "code",
   "execution_count": 3,
   "metadata": {},
   "outputs": [],
   "source": [
    "image_path = \"C:/Users/ramad/OneDrive/Dokumen/BAN/BAN NEW/karo/oc 50%.jpg\"\n",
    "\n",
    "update_exif_gps_single(image_path,3.10046735,98.49835368, radius)\n"
   ]
  },
  {
   "cell_type": "markdown",
   "metadata": {},
   "source": [
    "Check exif data of image / metadata"
   ]
  },
  {
   "cell_type": "code",
   "execution_count": 3,
   "metadata": {},
   "outputs": [],
   "source": [
    "from PIL import Image\n",
    "from PIL.ExifTags import TAGS, GPSTAGS\n",
    "\n",
    "\n",
    "def get_exif(filename):\n",
    "    exif_data = {}\n",
    "    image = Image.open(filename)\n",
    "    info = image._getexif()\n",
    "    if info:\n",
    "        for tag, value in info.items():\n",
    "            decoded = TAGS.get(tag, tag)\n",
    "            if decoded == \"GPS\":\n",
    "                gps_data = {}\n",
    "                for gps_tag in value:\n",
    "                    sub_decoded = GPSTAGS.get(gps_tag, gps_tag) \n",
    "                    gps_data[sub_decoded] = value[gps_tag]\n",
    "                exif_data[decoded] = gps_data\n",
    "            else:\n",
    "                exif_data[decoded] = value\n",
    "\n",
    "    return exif_data    \n"
   ]
  },
  {
   "cell_type": "code",
   "execution_count": 4,
   "metadata": {},
   "outputs": [
    {
     "name": "stdout",
     "output_type": "stream",
     "text": [
      "{'ImageWidth': 600, 'ImageLength': 800, 'BitsPerSample': (8, 8, 8), 'GPSInfo': {0: b'\\x02\\x00\\x00\\x00', 1: 'S', 2: (10.0, 11.0, 48.2), 3: 'E', 4: (120.0, 12.0, 56.04), 5: b'\\x01'}, 'PhotometricInterpretation': 2, 'ResolutionUnit': 2, 'ExifOffset': 243, 'Software': 'Adobe Photoshop 21.2 (Windows)', 'Orientation': 1, 'DateTime': '2023:07:27 11:29:30', 'SamplesPerPixel': 3, 'XResolution': 72.0, 'YResolution': 72.0, 'ExifVersion': b'0231', 'ColorSpace': 65535, 'ExifImageWidth': 600, 'ExifImageHeight': 800}\n",
      "/n\n",
      "{'ImageWidth': 600, 'ImageLength': 800, 'BitsPerSample': (8, 8, 8), 'GPSInfo': {0: b'\\x02\\x00\\x00\\x00', 1: 'S', 2: (10.0, 11.0, 48.59), 3: 'E', 4: (120.0, 12.0, 55.67), 5: b'\\x01'}, 'PhotometricInterpretation': 2, 'ResolutionUnit': 2, 'ExifOffset': 243, 'Software': 'Adobe Photoshop 21.2 (Windows)', 'Orientation': 1, 'DateTime': '2023:07:27 11:30:19', 'SamplesPerPixel': 3, 'XResolution': 72.0, 'YResolution': 72.0, 'ExifVersion': b'0231', 'ColorSpace': 65535, 'ExifImageWidth': 600, 'ExifImageHeight': 800}\n"
     ]
    }
   ],
   "source": [
    "if __name__ == \"__main__\":\n",
    "    # exif = get_exif(\"C:/Users/ramad/OneDrive/Dokumen/BAN/OC Sumba Timur/DONE/perdesa/Hadakamali/1203.jpg\")\n",
    "    # exif = get_exif(\"C:/Users/ramad/OneDrive/Dokumen/BAN/OC Sumba Timur/DONE/perdesa/Ds.Persia.Praikaruku/1116.jpg\")\n",
    "    exif = get_exif(\"C:/Users/ramad/OneDrive/Dokumen/BAN/OC Sumba Timur/DONE/perdesa/Ananjaki/869.jpg\")\n",
    "    print(exif)\n",
    "    print(\"/n\")\n",
    "    exif = get_exif(\"C:/Users/ramad/OneDrive/Dokumen/BAN/OC Sumba Timur/DONE/perdesa/Ananjaki/870.jpg\")\n",
    "    # exif = get_exif(\"C:/Users/ramad/OneDrive/Gambar/tes2.jpg\")\n",
    "    print(exif)"
   ]
  },
  {
   "cell_type": "markdown",
   "metadata": {},
   "source": [
    "CHECK IMAGE DIR if has gps or not"
   ]
  },
  {
   "cell_type": "code",
   "execution_count": 53,
   "metadata": {},
   "outputs": [],
   "source": [
    "import os\n",
    "import shutil\n",
    "\n",
    "from PIL import Image\n",
    "from PIL.ExifTags import TAGS, GPSTAGS\n",
    "\n",
    "def get_exif(filename):\n",
    "    exif_data = {}\n",
    "    image = Image.open(filename)\n",
    "    info = image._getexif()\n",
    "    if info:\n",
    "        for tag, value in info.items():\n",
    "            decoded = TAGS.get(tag, tag)\n",
    "            if decoded == \"GPS\":\n",
    "                gps_data = {}\n",
    "                for gps_tag in value:\n",
    "                    sub_decoded = GPSTAGS.get(gps_tag, gps_tag) \n",
    "                    gps_data[sub_decoded] = value[gps_tag]\n",
    "                exif_data[decoded] = gps_data\n",
    "            else:\n",
    "                exif_data[decoded] = value\n",
    "    return exif_data\n",
    "\n",
    "def has_geotag(filename):\n",
    "    exif_data = get_exif(filename)\n",
    "    if \"GPSInfo\" in exif_data:\n",
    "        return True\n",
    "    return False\n",
    "\n",
    "def copy_images_without_geotag(src_directory, dest_directory):\n",
    "    image_files = [f for f in os.listdir(src_directory) if f.lower().endswith(('.jpg', '.jpeg', '.png', '.gif'))]\n",
    "    for image_file in image_files:\n",
    "        image_path = os.path.join(src_directory, image_file)\n",
    "        if not has_geotag(image_path):\n",
    "            dest_path = os.path.join(dest_directory, image_file)\n",
    "            shutil.move(image_path, dest_path)\n",
    "            print(f\"{image_file} dipindah ke direktori tujuan karena tidak memiliki geotag koordinat.\")\n",
    "\n",
    "# Ganti 'src_direktori' dengan direktori sumber dan 'dest_direktori' dengan direktori tujuan\n",
    "src_directory = \"C:/Users/ramad/OneDrive/Dokumen/BAN/BAN NEW/ponorogo/OC no gps\"\n",
    "dest_directory = \"C:/Users/ramad/OneDrive/Dokumen/BAN/BAN NEW/ponorogo/OC no gps\"\n",
    "\n",
    "copy_images_without_geotag(src_directory, dest_directory)\n",
    "\n",
    "\n"
   ]
  }
 ],
 "metadata": {
  "kernelspec": {
   "display_name": "Python 3",
   "language": "python",
   "name": "python3"
  },
  "language_info": {
   "codemirror_mode": {
    "name": "ipython",
    "version": 3
   },
   "file_extension": ".py",
   "mimetype": "text/x-python",
   "name": "python",
   "nbconvert_exporter": "python",
   "pygments_lexer": "ipython3",
   "version": "3.10.11"
  },
  "orig_nbformat": 4
 },
 "nbformat": 4,
 "nbformat_minor": 2
}
