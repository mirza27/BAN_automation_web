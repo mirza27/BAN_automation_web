{
 "cells": [
  {
   "cell_type": "markdown",
   "metadata": {},
   "source": [
    "# UPPER KOLOM 'PROVINSI' 'KOTA' 'KECATAMAN'"
   ]
  },
  {
   "cell_type": "code",
   "execution_count": null,
   "metadata": {},
   "outputs": [],
   "source": [
    "import pandas as pd\n",
    "\n",
    "def upperRegion(excel_file, kolom, prefix):\n",
    "    df = pd.read_excel(excel_file)\n",
    "    \n",
    "    # hilangkan spasi awal akhir\n",
    "    for nama_kolom in kolom:\n",
    "        df[nama_kolom] = df[nama_kolom].str.strip().upper()\n",
    "    \n",
    "    # tambah pref awal\n",
    "    for pref, nama_kolom in zip(prefix, kolom) :\n",
    "        df[nama_kolom] = pref+ df[nama_kolom]\n",
    "\n",
    "    df.to_excel(excel_file, index=False)"
   ]
  },
  {
   "cell_type": "code",
   "execution_count": null,
   "metadata": {},
   "outputs": [],
   "source": [
    "nama_kolom = ['nama_provinsi', \"nama_kota\", \"nama_kecamatan\"]\n",
    "prefix  = ['PROV. ', \"KAB. \", \"KEC. \"]\n",
    "file_path = \"../../BAN/Import BastBanpen/bonexlsx\"\n",
    "\n",
    "upperRegion(file_path, nama_kolom, prefix)"
   ]
  },
  {
   "cell_type": "markdown",
   "metadata": {},
   "source": [
    "# CORRECT KOLOM 'nama_desa''nama_gapoktan'"
   ]
  },
  {
   "cell_type": "code",
   "execution_count": null,
   "metadata": {},
   "outputs": [],
   "source": [
    "def updatePoktan(file_path):\n",
    "    df = pd.read_excel(file_path)\n",
    "\n",
    "    df[\"nama_desa\"] = df[\"nama_desa\"].str.strip()\n",
    "    df[\"nama_gapoktan\"] = df[\"nama_gapoktan\"].str.strip()\n",
    "\n",
    "    def custom_title(text):\n",
    "        words = text.split()\n",
    "        words = [word.capitalize() for word in words]\n",
    "        for i, word in enumerate(words):\n",
    "            if word.upper() in [\"II\", \"III\", \"IV\", \"VI\",  \"VII\", \"VIII\", \"IX\"]:\n",
    "                words[i] = word.upper()\n",
    "        return \" \".join(words)\n",
    "    \n",
    "    df[\"nama_gapoktan\"] = df[\"nama_gapoktan\"].apply(custom_title)\n",
    "    \n",
    "    df.to_excel(file_path, index=False)"
   ]
  },
  {
   "cell_type": "code",
   "execution_count": null,
   "metadata": {},
   "outputs": [],
   "source": [
    "file_path = \"../../BAN/Import BastBanpen/bonexlsx\"\n",
    "\n",
    "updatePoktan(file_path)"
   ]
  }
 ],
 "metadata": {
  "kernelspec": {
   "display_name": "Python 3",
   "language": "python",
   "name": "python3"
  },
  "language_info": {
   "codemirror_mode": {
    "name": "ipython",
    "version": 3
   },
   "file_extension": ".py",
   "mimetype": "text/x-python",
   "name": "python",
   "nbconvert_exporter": "python",
   "pygments_lexer": "ipython3",
   "version": "3.10.11"
  }
 },
 "nbformat": 4,
 "nbformat_minor": 2
}
