{
 "cells": [
  {
   "cell_type": "markdown",
   "metadata": {},
   "source": [
    "MENGUBAH NAMA MENJADI (3) DIJIT PERTAMANYA"
   ]
  },
  {
   "cell_type": "code",
   "execution_count": 1,
   "metadata": {},
   "outputs": [],
   "source": [
    "import os\n",
    "\n",
    "def rename_image_files(directory):\n",
    "    # Mendapatkan daftar file di direktori\n",
    "    file_list = os.listdir(directory)\n",
    "\n",
    "    # Membuat daftar ekstensi file yang ingin diubah\n",
    "    valid_extensions = ['.jpeg', '.jpg', '.png', '.pdf']\n",
    "\n",
    "    for filename in file_list:\n",
    "        # Memisahkan nama file dan ekstensinya\n",
    "        name, ext = os.path.splitext(filename)\n",
    "\n",
    "        # Memeriksa apakah ekstensi file adalah .jpeg atau .jpg\n",
    "        if ext.lower() in valid_extensions:\n",
    "            # Mencari tiga angka pertama dalam nama file\n",
    "            first_three_digits = ''.join(filter(str.isdigit, name))[:4]\n",
    "\n",
    "            # Membuat nama file baru dengan format 'angka_pertama.jpg/jpeg'\n",
    "            new_name = f\"{first_three_digits}{ext.lower()}\"\n",
    "\n",
    "            # Mengganti nama file lama dengan yang baru\n",
    "            old_path = os.path.join(directory, filename)\n",
    "            new_path = os.path.join(directory, new_name)\n",
    "\n",
    "            os.rename(old_path, new_path)\n",
    "            print(f\"Nama file '{filename}' diubah menjadi '{new_name}'\")\n"
   ]
  },
  {
   "cell_type": "code",
   "execution_count": 3,
   "metadata": {},
   "outputs": [
    {
     "name": "stdout",
     "output_type": "stream",
     "text": [
      "Nama file '1025 BAST MINASA BAJI.pdf' diubah menjadi '1025.pdf'\n",
      "Nama file '1026 BAST ABBULOSIBA TANG.pdf' diubah menjadi '1026.pdf'\n",
      "Nama file '1027 BAST BUNGA SARRE.pdf' diubah menjadi '1027.pdf'\n",
      "Nama file '1028 BAST KANARAYA.pdf' diubah menjadi '1028.pdf'\n",
      "Nama file '1029 BAST PANRANNUANTA.pdf' diubah menjadi '1029.pdf'\n",
      "Nama file '1030 BAST BINA SEJAHTERA.pdf' diubah menjadi '1030.pdf'\n",
      "Nama file '1031 BAST SURYA SEJATI.pdf' diubah menjadi '1031.pdf'\n",
      "Nama file '1032 BAST HARAPAN KITA.pdf' diubah menjadi '1032.pdf'\n",
      "Nama file '1298 BAST JONGGO BATU.pdf' diubah menjadi '1298.pdf'\n",
      "Nama file '1299 BAST LAMBERE KALU.pdf' diubah menjadi '1299.pdf'\n",
      "Nama file '1300 BAST KWT BERKAH.pdf' diubah menjadi '1300.pdf'\n",
      "Nama file '1301 BAST ABBULOSIBATANG.pdf' diubah menjadi '1301.pdf'\n",
      "Nama file '1302 BAST TALAKA.pdf' diubah menjadi '1302.pdf'\n",
      "Nama file '1303 BAST LOMPO LABBA.pdf' diubah menjadi '1303.pdf'\n",
      "Nama file '1304 BAST PAKKABBA.pdf' diubah menjadi '1304.pdf'\n",
      "Nama file '1305 BAST PALETTE.pdf' diubah menjadi '1305.pdf'\n",
      "Nama file '1306 BAST PANGKAJENE.pdf' diubah menjadi '1306.pdf'\n",
      "Nama file '1307 BAST SIKARIMANGGI.pdf' diubah menjadi '1307.pdf'\n",
      "Nama file '1308 BAST ABBULOSIBATANG.pdf' diubah menjadi '1308.pdf'\n",
      "Nama file '1309 BAST DAENGA.pdf' diubah menjadi '1309.pdf'\n",
      "Nama file '1310 BAST SOREANG.pdf' diubah menjadi '1310.pdf'\n",
      "Nama file '1311 BAST KAMPUNG PARANG.pdf' diubah menjadi '1311.pdf'\n"
     ]
    }
   ],
   "source": [
    "\n",
    "# Contoh penggunaan fungsi pada direktori tertentu\n",
    "if __name__ == \"__main__\":\n",
    "    target_directory = \"C:/Users/ramad/OneDrive/Dokumen/BAN/BAN NEW/takalar/bast pdf version\"\n",
    "    rename_image_files(target_directory)\n"
   ]
  },
  {
   "cell_type": "markdown",
   "metadata": {},
   "source": [
    "ganti nama seusuai poktan"
   ]
  },
  {
   "cell_type": "code",
   "execution_count": 2,
   "metadata": {},
   "outputs": [
    {
     "name": "stdout",
     "output_type": "stream",
     "text": [
      "Nama file gambar 446.kml telah diubah menjadi 446_Fajar Sari.kml\n",
      "Nama file gambar 447.kml telah diubah menjadi 447_Sei Belutu.kml\n",
      "Nama file gambar 448.kml telah diubah menjadi 448_Sri Agung.kml\n",
      "Nama file gambar 449.kml telah diubah menjadi 449_Mekar Tani.kml\n",
      "Nama file gambar 450.kml telah diubah menjadi 450_Karya Bersama.kml\n",
      "Nama file gambar 451.kml telah diubah menjadi 451_Sehati.kml\n",
      "Nama file gambar 452.kml telah diubah menjadi 452_Cinta Sehati.kml\n",
      "Nama file gambar 453.kml telah diubah menjadi 453_Sri Ayu.kml\n",
      "Nama file gambar 454.kml telah diubah menjadi 454_Sri Abadi Makmur.kml\n",
      "Nama file gambar 455.kml telah diubah menjadi 455_Karya Bersama.kml\n",
      "Nama file gambar 456.kml telah diubah menjadi 456_Maju Bersama.kml\n",
      "Nama file gambar 457.kml telah diubah menjadi 457_Mekar Tani.kml\n",
      "Nama file gambar 458.kml telah diubah menjadi 458_Sederhana.kml\n",
      "Proses selesai.\n"
     ]
    }
   ],
   "source": [
    "import os\n",
    "import csv\n",
    "\n",
    "# Path ke direktori gambar\n",
    "image_dir = 'C:/Users/ramad/OneDrive/Dokumen/BAN/BAN NEW/serdang/kml'\n",
    "\n",
    "# Path ke file CSV\n",
    "csv_file = '../csv/psp3/link_serdang.csv'\n",
    "\n",
    "\n",
    "# Baca data dari file CSV\n",
    "with open(csv_file, 'r') as f:\n",
    "    reader = csv.DictReader(f)\n",
    "    data = [row for row in reader]\n",
    "\n",
    "# Loop melalui setiap data dalam CSV\n",
    "for row in data:\n",
    "    no = row['No']\n",
    "    poktan = row['poktan']\n",
    "    \n",
    "    # Buat nama baru sesuai format\n",
    "    new_name = f\"{no}_{poktan}.kml\"\n",
    "    \n",
    "    # Path ke file gambar lama\n",
    "    old_image_path = os.path.join(image_dir, f\"{no}.kml\") # jpg / jpeg\n",
    "    \n",
    "    # Path ke file gambar baru\n",
    "    new_image_path = os.path.join(image_dir, new_name)\n",
    "    \n",
    "    try:\n",
    "        # Ubah nama file\n",
    "        os.rename(old_image_path, new_image_path)\n",
    "        print(f\"Nama file gambar {no}.kml telah diubah menjadi {new_name}\")\n",
    "    except FileNotFoundError:\n",
    "        print(f\"File gambar {no}.jpg tidak ditemukan. Melewati...\")\n",
    "    except Exception as e:\n",
    "        print(f\"Terjadi kesalahan saat mengubah nama file {no}.jpg: {str(e)}\")\n",
    "\n",
    "print(\"Proses selesai.\")\n",
    "\n"
   ]
  },
  {
   "cell_type": "markdown",
   "metadata": {},
   "source": [
    "Mengubah jpg menjadi pdf"
   ]
  },
  {
   "cell_type": "code",
   "execution_count": null,
   "metadata": {},
   "outputs": [],
   "source": [
    "from PIL import Image\n",
    "from reportlab.pdfgen import canvas\n",
    "import os\n",
    "\n",
    "def convert_jpg_to_pdf(input_dir, output_dir):\n",
    "    # Pastikan output_dir sudah ada atau buat direktori baru jika belum ada\n",
    "    if not os.path.exists(output_dir):\n",
    "        os.makedirs(output_dir)\n",
    "\n",
    "    # Loop melalui setiap file di input_dir\n",
    "    for filename in os.listdir(input_dir):\n",
    "        if filename.endswith(\".jpg\"):\n",
    "            # Baca gambar menggunakan Pillow\n",
    "            img_path = os.path.join(input_dir, filename)\n",
    "            img = Image.open(img_path)\n",
    "\n",
    "            # Tentukan path untuk file PDF yang akan disimpan\n",
    "            pdf_path = os.path.join(output_dir, os.path.splitext(filename)[0] + \".pdf\")\n",
    "\n",
    "            # Buat file PDF menggunakan ReportLab\n",
    "            with open(pdf_path, \"wb\") as pdf_file:\n",
    "                c = canvas.Canvas(pdf_file)\n",
    "                c.setPageSize((img.width, img.height))\n",
    "                c.drawInlineImage(img, 0, 0, width=img.width, height=img.height)\n",
    "                c.save()\n",
    "\n",
    "            print(f\"File {filename} berhasil diubah menjadi {os.path.basename(pdf_path)}\")\n",
    "\n",
    "# Contoh pemanggilan fungsi\n",
    "input_directory = \"path/to/input/directory\"\n",
    "output_directory = \"path/to/output/directory\"\n",
    "convert_jpg_to_pdf(input_directory, output_directory)\n"
   ]
  }
 ],
 "metadata": {
  "kernelspec": {
   "display_name": "Python 3",
   "language": "python",
   "name": "python3"
  },
  "language_info": {
   "codemirror_mode": {
    "name": "ipython",
    "version": 3
   },
   "file_extension": ".py",
   "mimetype": "text/x-python",
   "name": "python",
   "nbconvert_exporter": "python",
   "pygments_lexer": "ipython3",
   "version": "3.10.11"
  },
  "orig_nbformat": 4
 },
 "nbformat": 4,
 "nbformat_minor": 2
}
