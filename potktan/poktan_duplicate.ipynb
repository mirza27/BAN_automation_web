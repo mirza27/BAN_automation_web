{
 "cells": [
  {
   "cell_type": "code",
   "execution_count": null,
   "metadata": {},
   "outputs": [],
   "source": []
  },
  {
   "cell_type": "code",
   "execution_count": 5,
   "metadata": {},
   "outputs": [
    {
     "name": "stdout",
     "output_type": "stream",
     "text": [
      "Ada kelompok yang memiliki lebih dari satu entri dalam satu desa:\n",
      "           Desa                kelompok  count\n",
      "375  Kutambelin             Gelora Tani      2\n",
      "446   Lau Garut  Rulih Adi Mejingkat II      2\n"
     ]
    }
   ],
   "source": [
    "import pandas as pd\n",
    "\n",
    "# Baca data CSV ke dalam DataFrame\n",
    "df = pd.read_csv(\"../csv/cpcl_karo.csv\")\n",
    "\n",
    "# Mengelompokkan data berdasarkan kolom \"Desa\" dan \"kelompok\" untuk mencari kelompok yang sama dalam satu desa\n",
    "grouped = df.groupby([\"Desa\", \"kelompok\"]).size().reset_index(name=\"count\")\n",
    "\n",
    "# Menampilkan kelompok yang memiliki lebih dari satu entri dalam satu desa\n",
    "duplicate_groups = grouped[grouped[\"count\"] > 1]\n",
    "\n",
    "if not duplicate_groups.empty:\n",
    "    print(\"Ada kelompok yang memiliki lebih dari satu entri dalam satu desa:\")\n",
    "    print(duplicate_groups)\n",
    "else:\n",
    "    print(\"Tidak ada kelompok yang memiliki lebih dari satu entri dalam satu desa.\")\n"
   ]
  },
  {
   "cell_type": "code",
   "execution_count": null,
   "metadata": {},
   "outputs": [],
   "source": []
  }
 ],
 "metadata": {
  "kernelspec": {
   "display_name": "Python 3",
   "language": "python",
   "name": "python3"
  },
  "language_info": {
   "codemirror_mode": {
    "name": "ipython",
    "version": 3
   },
   "file_extension": ".py",
   "mimetype": "text/x-python",
   "name": "python",
   "nbconvert_exporter": "python",
   "pygments_lexer": "ipython3",
   "version": "3.10.11"
  },
  "orig_nbformat": 4
 },
 "nbformat": 4,
 "nbformat_minor": 2
}
