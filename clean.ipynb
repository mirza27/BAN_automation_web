{
 "cells": [
  {
   "cell_type": "markdown",
   "metadata": {},
   "source": [
    "MENGHAPUS SPASI DIAKHIR SEBUAH KOLOM PADA CSV dan menambhakn karakter tertentu"
   ]
  },
  {
   "cell_type": "code",
   "execution_count": 1,
   "metadata": {},
   "outputs": [],
   "source": [
    "import pandas as pd\n",
    "\n",
    "def remove_trailing_spaces(csv_file, nama_kolom, prefix):\n",
    "    # Membaca file CSV ke dalam DataFrame\n",
    "    df = pd.read_excel(csv_file)\n",
    "\n",
    "    # Menghapus spasi di akhir dan diawal nilai pada kolom \"desa\"\n",
    "    df[nama_kolom] = df[nama_kolom].str.strip()\n",
    "\n",
    "    # Menambahkan prefix ke setiap nilai dalam kolom yang ditentukan\n",
    "    df[nama_kolom] = prefix + df[nama_kolom]\n",
    "\n",
    "    # Menyimpan DataFrame yang sudah diubah kembali ke file CSV\n",
    "    df.to_excel(csv_file, index=False)\n",
    "\n"
   ]
  },
  {
   "cell_type": "code",
   "execution_count": 4,
   "metadata": {},
   "outputs": [],
   "source": [
    "if __name__ == \"__main__\":\n",
    "    # csv_file_path = \"./csv/oc_bondowoso1.csv\"\n",
    "    csv_file_path = \"../BAN/Import BastBanpen/format_export_data_gabungan.xlsx\"\n",
    "    remove_trailing_spaces(csv_file_path, 'nama_gapoktan', '')"
   ]
  },
  {
   "cell_type": "markdown",
   "metadata": {},
   "source": [
    "MENGKAPITALISASI KOLOM TERTENTU"
   ]
  },
  {
   "cell_type": "code",
   "execution_count": 8,
   "metadata": {},
   "outputs": [],
   "source": [
    "\n",
    "def capitalize_column(csv_file, column_name):\n",
    "    # Membaca file CSV ke dalam DataFrame\n",
    "    df = pd.read_excel(csv_file)\n",
    "\n",
    "    # Mengkapitalisasi nilai pada kolom yang ditentukan\n",
    "    df[column_name] = df[column_name].str.upper()\n",
    "    # df[column_name] = df[column_name].str.title() # mengkapital huruf pertama setiap kata\n",
    "\n",
    "    # Menyimpan DataFrame yang sudah diubah kembali ke file CSV\n",
    "    df.to_excel(csv_file, index=False)"
   ]
  },
  {
   "cell_type": "code",
   "execution_count": 10,
   "metadata": {},
   "outputs": [],
   "source": [
    "\n",
    "csv_file_path2 = \"../BAN/Import BastBanpen/format_export_data_gabungan.xlsx\"\n",
    "capitalize_column(csv_file_path2, 'nama_kecamatan')\n"
   ]
  },
  {
   "cell_type": "markdown",
   "metadata": {},
   "source": [
    "MENGISI NILAI KOSONG PADA KOLOM CSV DENGAN NILAI TERTENTU"
   ]
  },
  {
   "cell_type": "code",
   "execution_count": 4,
   "metadata": {},
   "outputs": [],
   "source": [
    "def fill_empty_status_with_aman():\n",
    "    # Membaca file CSV ke dalam DataFrame\n",
    "    df = pd.read_csv(r\"C:/Users/ramad\\OneDrive/Dokumen/BAN_autofill/oc_sumba_barat_daya.csv\", delimiter=',')\n",
    "\n",
    "    # Mengisi nilai kolom \"status\" yang kosong dengan 'AMAN'\n",
    "    df['kecamatan'].fillna('Wewewa Tengah', inplace=True)\n",
    "\n",
    "    # Menyimpan DataFrame yang sudah diubah kembali ke file CSV\n",
    "    df.to_csv(\"C:/Users/ramad\\OneDrive/Dokumen/BAN_autofill/oc_sumba_barat_daya.csv\", index=False)"
   ]
  },
  {
   "cell_type": "markdown",
   "metadata": {},
   "source": [
    "Membuat link seusai nomor kode untuk autoupload"
   ]
  },
  {
   "cell_type": "code",
   "execution_count": 8,
   "metadata": {},
   "outputs": [],
   "source": [
    "import pandas as pd\n",
    "\n",
    "# Baca file CSV1 dan CSV2\n",
    "csv1 = pd.read_csv('./csv/link_mentah.csv')\n",
    "csv2 = pd.read_csv('./csv/oc_bondowoso1.csv')\n",
    "\n",
    "# Buat pemetaan antara 'poktan' dan 'desa' dalam kedua file CSV\n",
    "poktan_desa_mapping = dict(zip(zip(csv2['poktan'], csv2['desa']), csv2['no']))\n",
    "\n",
    "# Lakukan penggantian nilai 'nomor' dalam file CSV1 berdasarkan pemetaan\n",
    "csv1['nomor'] = csv1.apply(lambda row: f\"{poktan_desa_mapping[(row['poktan'], row['desa'])]}/{row['nomor'].split('/')[1]}\", axis=1)\n",
    "\n",
    "# Simpan kembali file CSV1 setelah penggantian dilakukan\n",
    "csv1.to_csv('.csv/link_bondowoso.csv', index=False)"
   ]
  }
 ],
 "metadata": {
  "kernelspec": {
   "display_name": "Python 3",
   "language": "python",
   "name": "python3"
  },
  "language_info": {
   "codemirror_mode": {
    "name": "ipython",
    "version": 3
   },
   "file_extension": ".py",
   "mimetype": "text/x-python",
   "name": "python",
   "nbconvert_exporter": "python",
   "pygments_lexer": "ipython3",
   "version": "3.10.11"
  },
  "orig_nbformat": 4
 },
 "nbformat": 4,
 "nbformat_minor": 2
}
