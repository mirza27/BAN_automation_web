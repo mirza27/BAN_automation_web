{
 "cells": [
  {
   "cell_type": "markdown",
   "metadata": {},
   "source": [
    "Mengubah format koma dan titik koordinat"
   ]
  },
  {
   "cell_type": "code",
   "execution_count": 7,
   "metadata": {},
   "outputs": [
    {
     "name": "stdout",
     "output_type": "stream",
     "text": [
      "File C:/Users/ramad/OneDrive/Dokumen/BAN/BAN NEW/banyuasin/ploting banyuasin_processed.xlsx berhasil dibuat.\n"
     ]
    }
   ],
   "source": [
    "import pandas as pd\n",
    "\n",
    "def process_excel_file(input_file):\n",
    "    # Membaca file Excel\n",
    "    df = pd.read_excel(input_file)\n",
    "\n",
    "    # Menghilangkan spasi pada kolom 'xy'\n",
    "    df['xy'] = df['xy'].str.replace(' ', '')\n",
    "\n",
    "    # Memproses kolom 'xy'\n",
    "    def process_xy(xy):\n",
    "        # Memeriksa apakah ada lebih dari satu koma\n",
    "        \n",
    "        xy = str(xy)\n",
    "        if xy.count(',') > 1:\n",
    "            # Mencari indeks posisi koma pertama, kedua, dan ketiga\n",
    "            first_comma_index = xy.find(',')\n",
    "            second_comma_index = xy.find(',', first_comma_index + 1)\n",
    "            third_comma_index = xy.find(',', second_comma_index + 1)\n",
    "\n",
    "            # Mengganti koma pertama dengan titik\n",
    "            xy = xy[:first_comma_index] + '.' + xy[first_comma_index + 1:]\n",
    "\n",
    "            # Mengganti koma ketiga dengan titik\n",
    "            xy = xy[:third_comma_index] + '.' + xy[third_comma_index + 1:]\n",
    "\n",
    "            # Mencari indeks posisi koma keempat\n",
    "            fourth_comma_index = xy.find(',', third_comma_index + 1)\n",
    "\n",
    "            # Menghapus koma keempat hingga akhir data jika ditemukan\n",
    "            if fourth_comma_index != -1:\n",
    "                xy = xy[:fourth_comma_index]\n",
    "\n",
    "        return xy\n",
    "\n",
    "    # Mengaplikasikan fungsi process_xy pada kolom 'xy'\n",
    "    df['xy'] = df['xy'].apply(process_xy)\n",
    "\n",
    "    # Menyimpan hasil ke file Excel baru dengan nama yang sama\n",
    "    output_file = input_file.replace('.xlsx', '_processed.xlsx')\n",
    "    df.to_excel(output_file, index=False)\n",
    "\n",
    "    print(f\"File {output_file} berhasil dibuat.\")\n",
    "\n",
    "# Menggunakan fungsi untuk memproses file Excel\n",
    "process_excel_file('C:/Users/ramad/OneDrive/Dokumen/BAN/BAN NEW/banyuasin/ploting banyuasin.xlsx')\n"
   ]
  },
  {
   "cell_type": "markdown",
   "metadata": {},
   "source": [
    "generate kml berdasarkan excel kolom x dan y"
   ]
  },
  {
   "cell_type": "code",
   "execution_count": 12,
   "metadata": {},
   "outputs": [
    {
     "name": "stdout",
     "output_type": "stream",
     "text": [
      "File KML 'C:/Users/ramad/OneDrive/Dokumen/BAN/BAN NEW/serdang/kml/446.kml' telah dibuat.\n",
      "File KML 'C:/Users/ramad/OneDrive/Dokumen/BAN/BAN NEW/serdang/kml/447.kml' telah dibuat.\n",
      "File KML 'C:/Users/ramad/OneDrive/Dokumen/BAN/BAN NEW/serdang/kml/448.kml' telah dibuat.\n",
      "File KML 'C:/Users/ramad/OneDrive/Dokumen/BAN/BAN NEW/serdang/kml/449.kml' telah dibuat.\n",
      "File KML 'C:/Users/ramad/OneDrive/Dokumen/BAN/BAN NEW/serdang/kml/450.kml' telah dibuat.\n",
      "File KML 'C:/Users/ramad/OneDrive/Dokumen/BAN/BAN NEW/serdang/kml/451.kml' telah dibuat.\n",
      "File KML 'C:/Users/ramad/OneDrive/Dokumen/BAN/BAN NEW/serdang/kml/452.kml' telah dibuat.\n",
      "File KML 'C:/Users/ramad/OneDrive/Dokumen/BAN/BAN NEW/serdang/kml/453.kml' telah dibuat.\n",
      "File KML 'C:/Users/ramad/OneDrive/Dokumen/BAN/BAN NEW/serdang/kml/454.kml' telah dibuat.\n",
      "File KML 'C:/Users/ramad/OneDrive/Dokumen/BAN/BAN NEW/serdang/kml/455.kml' telah dibuat.\n",
      "File KML 'C:/Users/ramad/OneDrive/Dokumen/BAN/BAN NEW/serdang/kml/456.kml' telah dibuat.\n",
      "File KML 'C:/Users/ramad/OneDrive/Dokumen/BAN/BAN NEW/serdang/kml/457.kml' telah dibuat.\n",
      "File KML 'C:/Users/ramad/OneDrive/Dokumen/BAN/BAN NEW/serdang/kml/458.kml' telah dibuat.\n"
     ]
    }
   ],
   "source": [
    "import pandas as pd\n",
    "import simplekml\n",
    "\n",
    "def create_kml_from_excel(excel_file, output_directory):\n",
    "    df = pd.read_excel(excel_file)\n",
    "\n",
    "    for index, row in df.iterrows():\n",
    "        kml = simplekml.Kml()\n",
    "        if row['latitude'] == 'nan':\n",
    "            continue \n",
    "\n",
    "        latitude, longitude = row['latitude'], row['longitude']\n",
    "        placemark = kml.newpoint(name=str(row['no']), coords=[(longitude, latitude)])\n",
    "        output_file = f\"{output_directory}/{row['no']}.kml\"\n",
    "        kml.save(output_file)\n",
    "        print(f\"File KML '{output_file}' telah dibuat.\")\n",
    "\n",
    "# Ganti nama file Excel dan direktori keluaran sesuai kebutuhan\n",
    "excel_file = 'C:/Users/ramad/OneDrive/Dokumen/BAN/BAN NEW/serdang/ploting serdang.xlsx'\n",
    "output_directory = 'C:/Users/ramad/OneDrive/Dokumen/BAN/BAN NEW/serdang/kml'\n",
    "\n",
    "create_kml_from_excel(excel_file, output_directory)\n"
   ]
  },
  {
   "cell_type": "markdown",
   "metadata": {},
   "source": [
    "kml to zip"
   ]
  },
  {
   "cell_type": "code",
   "execution_count": 13,
   "metadata": {},
   "outputs": [
    {
     "name": "stdout",
     "output_type": "stream",
     "text": [
      "File ZIP berhasil dibuat: C:/Users/ramad/OneDrive/Dokumen/BAN/BAN NEW/serdang/kml zip\\446_Fajar Sari.zip\n",
      "File ZIP berhasil dibuat: C:/Users/ramad/OneDrive/Dokumen/BAN/BAN NEW/serdang/kml zip\\447_Sei Belutu.zip\n",
      "File ZIP berhasil dibuat: C:/Users/ramad/OneDrive/Dokumen/BAN/BAN NEW/serdang/kml zip\\448_Sri Agung.zip\n",
      "File ZIP berhasil dibuat: C:/Users/ramad/OneDrive/Dokumen/BAN/BAN NEW/serdang/kml zip\\449_Mekar Tani.zip\n",
      "File ZIP berhasil dibuat: C:/Users/ramad/OneDrive/Dokumen/BAN/BAN NEW/serdang/kml zip\\450_Karya Bersama.zip\n",
      "File ZIP berhasil dibuat: C:/Users/ramad/OneDrive/Dokumen/BAN/BAN NEW/serdang/kml zip\\451_Sehati.zip\n",
      "File ZIP berhasil dibuat: C:/Users/ramad/OneDrive/Dokumen/BAN/BAN NEW/serdang/kml zip\\452_Cinta Sehati.zip\n",
      "File ZIP berhasil dibuat: C:/Users/ramad/OneDrive/Dokumen/BAN/BAN NEW/serdang/kml zip\\453_Sri Ayu.zip\n",
      "File ZIP berhasil dibuat: C:/Users/ramad/OneDrive/Dokumen/BAN/BAN NEW/serdang/kml zip\\454_Sri Abadi Makmur.zip\n",
      "File ZIP berhasil dibuat: C:/Users/ramad/OneDrive/Dokumen/BAN/BAN NEW/serdang/kml zip\\455_Karya Bersama.zip\n",
      "File ZIP berhasil dibuat: C:/Users/ramad/OneDrive/Dokumen/BAN/BAN NEW/serdang/kml zip\\456_Maju Bersama.zip\n",
      "File ZIP berhasil dibuat: C:/Users/ramad/OneDrive/Dokumen/BAN/BAN NEW/serdang/kml zip\\457_Mekar Tani.zip\n",
      "File ZIP berhasil dibuat: C:/Users/ramad/OneDrive/Dokumen/BAN/BAN NEW/serdang/kml zip\\458_Sederhana.zip\n"
     ]
    }
   ],
   "source": [
    "import os\n",
    "import zipfile\n",
    "\n",
    "def convert_kml_to_zip(input_directory, output_directory):\n",
    "    # Membuat objek ZipFile untuk setiap file KML dalam direktori input\n",
    "    for root, dirs, files in os.walk(input_directory):\n",
    "        for file in files:\n",
    "            if file.endswith(\".kml\"):\n",
    "                kml_file_path = os.path.join(root, file)\n",
    "                zip_file_name = os.path.splitext(file)[0]  # Menggunakan nama file KML tanpa ekstensi\n",
    "                zip_file_path = os.path.join(output_directory, zip_file_name + \".zip\")\n",
    "\n",
    "                # Membuat objek ZipFile untuk menulis ke file ZIP\n",
    "                with zipfile.ZipFile(zip_file_path, 'w') as zip_file:\n",
    "                    # Menambahkan file KML ke dalam file ZIP\n",
    "                    zip_file.write(kml_file_path, os.path.basename(kml_file_path))\n",
    "\n",
    "                print(f\"File ZIP berhasil dibuat: {zip_file_path}\")\n",
    "\n",
    "# Contoh penggunaan\n",
    "input_dir = \"C:/Users/ramad/OneDrive/Dokumen/BAN/BAN NEW/serdang/kml\"\n",
    "output_dir = \"C:/Users/ramad/OneDrive/Dokumen/BAN/BAN NEW/serdang/kml zip\"\n",
    "\n",
    "convert_kml_to_zip(input_dir, output_dir)\n"
   ]
  }
 ],
 "metadata": {
  "kernelspec": {
   "display_name": "Python 3",
   "language": "python",
   "name": "python3"
  },
  "language_info": {
   "codemirror_mode": {
    "name": "ipython",
    "version": 3
   },
   "file_extension": ".py",
   "mimetype": "text/x-python",
   "name": "python",
   "nbconvert_exporter": "python",
   "pygments_lexer": "ipython3",
   "version": "3.10.11"
  }
 },
 "nbformat": 4,
 "nbformat_minor": 2
}
